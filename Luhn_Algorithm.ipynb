{
  "nbformat": 4,
  "nbformat_minor": 0,
  "metadata": {
    "colab": {
      "provenance": [],
      "authorship_tag": "ABX9TyNLQZLRjL3ylxbbp5oxMd7d",
      "include_colab_link": true
    },
    "kernelspec": {
      "name": "python3",
      "display_name": "Python 3"
    },
    "language_info": {
      "name": "python"
    }
  },
  "cells": [
    {
      "cell_type": "markdown",
      "metadata": {
        "id": "view-in-github",
        "colab_type": "text"
      },
      "source": [
        "<a href=\"https://colab.research.google.com/github/Divya-rathore5056/-landing-page/blob/main/Luhn_Algorithm.ipynb\" target=\"_parent\"><img src=\"https://colab.research.google.com/assets/colab-badge.svg\" alt=\"Open In Colab\"/></a>"
      ]
    },
    {
      "cell_type": "code",
      "execution_count": 52,
      "metadata": {
        "id": "8w-1RZC95LUd"
      },
      "outputs": [],
      "source": [
        "import re\n",
        "import nltk\n",
        "import string\n",
        "import heapq"
      ]
    },
    {
      "cell_type": "code",
      "source": [
        "nltk.download('punkt_tab')\n"
      ],
      "metadata": {
        "colab": {
          "base_uri": "https://localhost:8080/"
        },
        "id": "DkNx2yU75vhp",
        "outputId": "e1f5af5c-2807-4397-f236-bf4e62e44acb"
      },
      "execution_count": 53,
      "outputs": [
        {
          "output_type": "stream",
          "name": "stderr",
          "text": [
            "[nltk_data] Downloading package punkt_tab to /root/nltk_data...\n",
            "[nltk_data]   Package punkt_tab is already up-to-date!\n"
          ]
        },
        {
          "output_type": "execute_result",
          "data": {
            "text/plain": [
              "True"
            ]
          },
          "metadata": {},
          "execution_count": 53
        }
      ]
    },
    {
      "cell_type": "code",
      "source": [
        "nltk.download('stopwords')\n"
      ],
      "metadata": {
        "colab": {
          "base_uri": "https://localhost:8080/"
        },
        "id": "bcePQuCP51Ew",
        "outputId": "ea2e1d47-2fd8-44ed-8ba3-73b6270c8735"
      },
      "execution_count": 54,
      "outputs": [
        {
          "output_type": "stream",
          "name": "stderr",
          "text": [
            "[nltk_data] Downloading package stopwords to /root/nltk_data...\n",
            "[nltk_data]   Package stopwords is already up-to-date!\n"
          ]
        },
        {
          "output_type": "execute_result",
          "data": {
            "text/plain": [
              "True"
            ]
          },
          "metadata": {},
          "execution_count": 54
        }
      ]
    },
    {
      "cell_type": "code",
      "source": [
        "original_text=\"\"\"Artificial intelligence is human like intelligence machines.\n",
        "                  It is the study of intelligent artificial agents.\n",
        "                  Science and engineering to produce intelligent machines.\n",
        "                  Solve problems and have intelligence.\n",
        "                  Related to intelligent behavior.\n",
        "                  Developing of reasoning machines.\n",
        "                  Learn from mistakes and successes.\n",
        "                  Artificial intelligence is related to reasoning in everyday situations.\"\"\"\n",
        "original_text = re.sub(r'\\s+',' ',original_text)\n",
        "original_text"
      ],
      "metadata": {
        "colab": {
          "base_uri": "https://localhost:8080/",
          "height": 70
        },
        "id": "MAt7ZaxI6B7Z",
        "outputId": "dac2842b-0760-4898-b010-197f787725a7"
      },
      "execution_count": 55,
      "outputs": [
        {
          "output_type": "execute_result",
          "data": {
            "text/plain": [
              "'Artificial intelligence is human like intelligence machines. It is the study of intelligent artificial agents. Science and engineering to produce intelligent machines. Solve problems and have intelligence. Related to intelligent behavior. Developing of reasoning machines. Learn from mistakes and successes. Artificial intelligence is related to reasoning in everyday situations.'"
            ],
            "application/vnd.google.colaboratory.intrinsic+json": {
              "type": "string"
            }
          },
          "metadata": {},
          "execution_count": 55
        }
      ]
    },
    {
      "cell_type": "code",
      "source": [
        "stopwords = nltk.corpus.stopwords.words('english')\n",
        "print(stopwords)"
      ],
      "metadata": {
        "colab": {
          "base_uri": "https://localhost:8080/"
        },
        "id": "zy6NrMna6ImW",
        "outputId": "ba7e222a-5aee-42ac-afa6-511052675ff0"
      },
      "execution_count": 56,
      "outputs": [
        {
          "output_type": "stream",
          "name": "stdout",
          "text": [
            "['i', 'me', 'my', 'myself', 'we', 'our', 'ours', 'ourselves', 'you', \"you're\", \"you've\", \"you'll\", \"you'd\", 'your', 'yours', 'yourself', 'yourselves', 'he', 'him', 'his', 'himself', 'she', \"she's\", 'her', 'hers', 'herself', 'it', \"it's\", 'its', 'itself', 'they', 'them', 'their', 'theirs', 'themselves', 'what', 'which', 'who', 'whom', 'this', 'that', \"that'll\", 'these', 'those', 'am', 'is', 'are', 'was', 'were', 'be', 'been', 'being', 'have', 'has', 'had', 'having', 'do', 'does', 'did', 'doing', 'a', 'an', 'the', 'and', 'but', 'if', 'or', 'because', 'as', 'until', 'while', 'of', 'at', 'by', 'for', 'with', 'about', 'against', 'between', 'into', 'through', 'during', 'before', 'after', 'above', 'below', 'to', 'from', 'up', 'down', 'in', 'out', 'on', 'off', 'over', 'under', 'again', 'further', 'then', 'once', 'here', 'there', 'when', 'where', 'why', 'how', 'all', 'any', 'both', 'each', 'few', 'more', 'most', 'other', 'some', 'such', 'no', 'nor', 'not', 'only', 'own', 'same', 'so', 'than', 'too', 'very', 's', 't', 'can', 'will', 'just', 'don', \"don't\", 'should', \"should've\", 'now', 'd', 'll', 'm', 'o', 're', 've', 'y', 'ain', 'aren', \"aren't\", 'couldn', \"couldn't\", 'didn', \"didn't\", 'doesn', \"doesn't\", 'hadn', \"hadn't\", 'hasn', \"hasn't\", 'haven', \"haven't\", 'isn', \"isn't\", 'ma', 'mightn', \"mightn't\", 'mustn', \"mustn't\", 'needn', \"needn't\", 'shan', \"shan't\", 'shouldn', \"shouldn't\", 'wasn', \"wasn't\", 'weren', \"weren't\", 'won', \"won't\", 'wouldn', \"wouldn't\"]\n"
          ]
        }
      ]
    },
    {
      "cell_type": "code",
      "source": [
        "def preprocess(text):\n",
        "  formatted_text = text.lower()\n",
        "  tokens =[]\n",
        "  for token in nltk.word_tokenize(formatted_text):\n",
        "    tokens.append(token)\n",
        "  tokens = [word for word in tokens if word not in stopwords and word not in string.punctuation]\n",
        "  formatted_text = ' '.join(element for element in tokens)\n",
        "\n",
        "  return formatted_text"
      ],
      "metadata": {
        "id": "bf2zhR_89OD-"
      },
      "execution_count": 57,
      "outputs": []
    },
    {
      "cell_type": "code",
      "source": [
        "formatted_text = preprocess(original_text)\n",
        "formatted_text"
      ],
      "metadata": {
        "colab": {
          "base_uri": "https://localhost:8080/",
          "height": 53
        },
        "id": "1rpTTbkL-lHB",
        "outputId": "dd823c0e-672c-42c6-fc37-268a8fe91433"
      },
      "execution_count": 58,
      "outputs": [
        {
          "output_type": "execute_result",
          "data": {
            "text/plain": [
              "'artificial intelligence human like intelligence machines study intelligent artificial agents science engineering produce intelligent machines solve problems intelligence related intelligent behavior developing reasoning machines learn mistakes successes artificial intelligence related reasoning everyday situations'"
            ],
            "application/vnd.google.colaboratory.intrinsic+json": {
              "type": "string"
            }
          },
          "metadata": {},
          "execution_count": 58
        }
      ]
    },
    {
      "cell_type": "code",
      "source": [
        "def calculate_sentences_score(sentences, important_words, distance):\n",
        "  scores = []\n",
        "  sentence_index = 0\n",
        "\n",
        "  for sentence in [nltk.word_tokenize(sentence) for sentence in sentences]:\n",
        "    print('-------------')\n",
        "   #print(sentence)\n",
        "\n",
        "    word_index = []\n",
        "    for word in important_words:\n",
        "      #print(word)\n",
        "      try:\n",
        "        word_index.append(sentence.index(word))\n",
        "      except ValueError:\n",
        "        pass\n",
        "    word_index.sort()\n",
        "   # print(word_index)\n",
        "\n",
        "    if len(word_index) == 0:\n",
        "      continue\n",
        "    # [0,1,2,5,8,9]\n",
        "    groups_list =[]\n",
        "    group = [ word_index[0]]\n",
        "    i = 1\n",
        "    while i< len(word_index): # 6\n",
        "    # first execution\n",
        "      if word_index[i] - word_index[i-1] < distance:\n",
        "        group.append(word_index[i])\n",
        "        #print('group',group)\n",
        "      else:\n",
        "        groups_list.append(group[:])\n",
        "        group = [word_index[i]]\n",
        "       # print('group',group)\n",
        "      i+= 1\n",
        "      groups_list.append(group)\n",
        "\n",
        "      print('all groups',groups_list)\n",
        "\n",
        "      max_group_score = 0\n",
        "      for g in groups_list:\n",
        "        print(g)\n",
        "        important_words_in_group = len(g)\n",
        "        total_words_in_group = len(g)\n",
        "        total_words_in_group = g[-1] - g[0] + 1\n",
        "        score = 1.0 * important_words_in_group**2 / total_words_in_group\n",
        "        print('group score', score)\n",
        "\n",
        "        if score > max_group_score:\n",
        "          max_group_score = score\n",
        "      scores.append((max_group_score, sentence_index))\n",
        "      sentence_index += 1\n",
        "\n",
        "    #print('final score', scores)\n",
        "    return scores\n"
      ],
      "metadata": {
        "id": "alI8FMzTDClP"
      },
      "execution_count": 59,
      "outputs": []
    },
    {
      "cell_type": "code",
      "source": [
        "test = ['a','b','c']\n",
        "test.index('b')"
      ],
      "metadata": {
        "id": "vFKlTKi7Fy6a",
        "colab": {
          "base_uri": "https://localhost:8080/"
        },
        "outputId": "a4be58e1-d7dc-4419-d442-f172a6aca733"
      },
      "execution_count": 60,
      "outputs": [
        {
          "output_type": "execute_result",
          "data": {
            "text/plain": [
              "1"
            ]
          },
          "metadata": {},
          "execution_count": 60
        }
      ]
    },
    {
      "cell_type": "code",
      "source": [
        "test = [0,1,3,4,6,9]\n",
        "test[-1], test[0] + 1"
      ],
      "metadata": {
        "id": "Ld12xsKWYlbb",
        "colab": {
          "base_uri": "https://localhost:8080/"
        },
        "outputId": "da869f36-58c5-47d1-dc92-ff826bc0084d"
      },
      "execution_count": 61,
      "outputs": [
        {
          "output_type": "execute_result",
          "data": {
            "text/plain": [
              "(9, 1)"
            ]
          },
          "metadata": {},
          "execution_count": 61
        }
      ]
    },
    {
      "cell_type": "code",
      "source": [
        "def summarize(text, top_n_words, distance, number_of_sentences):\n",
        "  original_sentences = [sentence for sentence in nltk.sent_tokenize(text)]\n",
        "  #print(original_sentences)\n",
        "  formatted_sentences = [preprocess(original_sentence)for original_sentence in original_sentences]\n",
        "  #print(formatted_sentences)\n",
        "  words = [word for sentence in formatted_sentences for word in nltk.word_tokenize(sentence)]\n",
        "  #print(words)\n",
        "  frequency = nltk.FreqDist(words)\n",
        "  #print(frequency)\n",
        "  #return frequency\n",
        "  top_n_words = [word[0] for word in frequency.most_common(top_n_words)]\n",
        "  #print(top_n_words)\n",
        "  sentences_score = calculate_sentences_score(formatted_sentences, top_n_words, distance)\n",
        "  #print(sentences_score)\n",
        "  best_sentences = heapq.nlargest(number_of_sentences, sentences_score)\n",
        "  #print(best_sentences)\n",
        "  best_sentences = [original_sentences[i] for (score,i) in  best_sentences]\n",
        "  #print(best_sentences)\n",
        "  return original_sentences,best_sentences,sentences_score"
      ],
      "metadata": {
        "id": "sGWfmjGo_CIk"
      },
      "execution_count": 62,
      "outputs": []
    },
    {
      "cell_type": "markdown",
      "source": [],
      "metadata": {
        "id": "-Q8AkaSGflLO"
      }
    },
    {
      "cell_type": "code",
      "source": [
        "original_sentences,best_sentences, sentences_score = summarize(original_text,5, 2, 3)"
      ],
      "metadata": {
        "id": "pNYm0ha8_k11",
        "colab": {
          "base_uri": "https://localhost:8080/"
        },
        "outputId": "9e6fbacf-efa1-48df-b678-670102a2c2dc"
      },
      "execution_count": 63,
      "outputs": [
        {
          "output_type": "stream",
          "name": "stdout",
          "text": [
            "-------------\n",
            "all groups [[0, 1]]\n",
            "[0, 1]\n",
            "group score 2.0\n",
            "all groups [[0, 1], [0, 1], [5]]\n",
            "[0, 1]\n",
            "group score 2.0\n",
            "[0, 1]\n",
            "group score 2.0\n",
            "[5]\n",
            "group score 1.0\n"
          ]
        }
      ]
    },
    {
      "cell_type": "code",
      "source": [
        "original_sentences"
      ],
      "metadata": {
        "id": "FNiPZykNfH4W",
        "colab": {
          "base_uri": "https://localhost:8080/"
        },
        "outputId": "b4a989b3-3be3-4e9b-cd03-76eaaa26e4dc"
      },
      "execution_count": 64,
      "outputs": [
        {
          "output_type": "execute_result",
          "data": {
            "text/plain": [
              "['Artificial intelligence is human like intelligence machines.',\n",
              " 'It is the study of intelligent artificial agents.',\n",
              " 'Science and engineering to produce intelligent machines.',\n",
              " 'Solve problems and have intelligence.',\n",
              " 'Related to intelligent behavior.',\n",
              " 'Developing of reasoning machines.',\n",
              " 'Learn from mistakes and successes.',\n",
              " 'Artificial intelligence is related to reasoning in everyday situations.']"
            ]
          },
          "metadata": {},
          "execution_count": 64
        }
      ]
    },
    {
      "cell_type": "code",
      "source": [
        "best_sentences"
      ],
      "metadata": {
        "id": "xOdHmOLofMIl",
        "colab": {
          "base_uri": "https://localhost:8080/"
        },
        "outputId": "57556590-fd0c-4452-97ef-5de0d287a80d"
      },
      "execution_count": 65,
      "outputs": [
        {
          "output_type": "execute_result",
          "data": {
            "text/plain": [
              "['It is the study of intelligent artificial agents.',\n",
              " 'Artificial intelligence is human like intelligence machines.']"
            ]
          },
          "metadata": {},
          "execution_count": 65
        }
      ]
    },
    {
      "cell_type": "code",
      "source": [
        "sentences_score"
      ],
      "metadata": {
        "id": "1DehPT3mfVOq",
        "colab": {
          "base_uri": "https://localhost:8080/"
        },
        "outputId": "ec2dd254-f30f-444d-9559-163d1364de94"
      },
      "execution_count": 66,
      "outputs": [
        {
          "output_type": "execute_result",
          "data": {
            "text/plain": [
              "[(2.0, 0), (2.0, 1)]"
            ]
          },
          "metadata": {},
          "execution_count": 66
        }
      ]
    },
    {
      "cell_type": "code",
      "source": [
        "from IPython.core.display import HTML"
      ],
      "metadata": {
        "id": "cUj7PdSefvIP"
      },
      "execution_count": 67,
      "outputs": []
    },
    {
      "cell_type": "code",
      "source": [
        "text =' '\n",
        "display(HTML(F'<h2>Summary</h2>'))\n",
        "for sentence in original_sentences:\n",
        "  if sentence in best_sentences:\n",
        "    text+= ' '+ sentence.replace(sentence, f\"<mark>{sentence}</mark>\")\n",
        "  else:\n",
        "    text+= ' '+ sentence\n",
        "display(HTML(f\"\"\"{text}\"\"\"))"
      ],
      "metadata": {
        "id": "DUMoJl9ggMTg",
        "colab": {
          "base_uri": "https://localhost:8080/",
          "height": 99
        },
        "outputId": "6416a7ce-3e91-48b2-9aa8-57023460773f"
      },
      "execution_count": 68,
      "outputs": [
        {
          "output_type": "display_data",
          "data": {
            "text/plain": [
              "<IPython.core.display.HTML object>"
            ],
            "text/html": [
              "<h2>Summary</h2>"
            ]
          },
          "metadata": {}
        },
        {
          "output_type": "display_data",
          "data": {
            "text/plain": [
              "<IPython.core.display.HTML object>"
            ],
            "text/html": [
              "  <mark>Artificial intelligence is human like intelligence machines.</mark> <mark>It is the study of intelligent artificial agents.</mark> Science and engineering to produce intelligent machines. Solve problems and have intelligence. Related to intelligent behavior. Developing of reasoning machines. Learn from mistakes and successes. Artificial intelligence is related to reasoning in everyday situations."
            ]
          },
          "metadata": {}
        }
      ]
    }
  ]
}